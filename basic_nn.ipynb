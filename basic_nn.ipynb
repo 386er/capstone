{
 "cells": [
  {
   "cell_type": "code",
   "execution_count": 1,
   "metadata": {
    "collapsed": true
   },
   "outputs": [],
   "source": [
    "import numpy as np\n",
    "import pickle\n",
    "from pandas import DataFrame, read_csv\n",
    "from sklearn import metrics\n",
    "import warnings\n",
    "import tensorflow as tf\n",
    "from tensorflow.contrib import rnn\n",
    "import matplotlib.pyplot as plt\n",
    "from matplotlib import gridspec\n",
    "from tensorflow import nn \n",
    "import helperModule as hm\n",
    "\n",
    "\n",
    "warnings.filterwarnings(\"ignore\")\n",
    "%config InlineBackend.figure_format = 'retina'"
   ]
  },
  {
   "cell_type": "code",
   "execution_count": 2,
   "metadata": {
    "collapsed": true
   },
   "outputs": [],
   "source": [
    "#########################\n",
    "############ Read in data\n",
    "#########################\n",
    "\n",
    "data = pickle.load( open( \"kdd99.p\", \"rb\" ) )\n",
    "\n",
    "x_train = data['x_train']\n",
    "x_test = data['x_test']\n",
    "y_train = data['y_train']\n",
    "y_test = data['y_test']"
   ]
  },
  {
   "cell_type": "code",
   "execution_count": 3,
   "metadata": {},
   "outputs": [
    {
     "name": "stdout",
     "output_type": "stream",
     "text": [
      "TRAIN\n",
      "(494021, 5)\n",
      "Dos 4107\n",
      "Probe 391458\n",
      "u2r 52\n",
      "r2l 1126\n",
      "TEST\n",
      "(311029, 5)\n",
      "Dos 4166\n",
      "Probe 229853\n",
      "u2r 228\n",
      "r2l 16189\n"
     ]
    }
   ],
   "source": [
    "dos = 0\n",
    "probe = 0\n",
    "u2r = 0\n",
    "r2l = 0\n",
    "\n",
    "for entry in y_train:\n",
    "    if entry[1] == 1:\n",
    "        dos += 1\n",
    "    if entry[2] == 1:\n",
    "        probe += 1\n",
    "    if entry[3] == 1:\n",
    "        u2r += 1\n",
    "    if entry[4] == 1:\n",
    "        r2l += 1\n",
    "\n",
    "print 'TRAIN'\n",
    "print y_train.shape\n",
    "print 'Dos %d'   % dos\n",
    "print 'Probe %d' % probe\n",
    "print 'u2r %d'   % u2r\n",
    "print 'r2l %d'   % r2l\n",
    "\n",
    "dos = 0\n",
    "probe = 0\n",
    "u2r = 0\n",
    "r2l = 0\n",
    "\n",
    "for entry in y_test:\n",
    "    if entry[1] == 1:\n",
    "        dos += 1\n",
    "    if entry[2] == 1:\n",
    "        probe += 1\n",
    "    if entry[3] == 1:\n",
    "        u2r += 1\n",
    "    if entry[4] == 1:\n",
    "        r2l += 1\n",
    "        \n",
    "print 'TEST'\n",
    "print y_test.shape\n",
    "print 'Dos %d'   % dos\n",
    "print 'Probe %d' % probe\n",
    "print 'u2r %d'   % u2r\n",
    "print 'r2l %d'   % r2l\n"
   ]
  },
  {
   "cell_type": "code",
   "execution_count": 4,
   "metadata": {
    "collapsed": true
   },
   "outputs": [],
   "source": [
    "n_features = 41 # KDD99 data input (41 features)\n",
    "n_classes = 5 # KDD99 labels (5 types of connection)\n",
    "st_dev = 0.2\n",
    "n_hidden_1 = 128\n",
    "n_hidden_2 = 128\n",
    "learning_rate = 0.001\n",
    "\n",
    "training_iters = 1000000\n",
    "batch_size = 256\n",
    "display_step = 50\n",
    "display_testing_step = 200\n",
    "\n"
   ]
  },
  {
   "cell_type": "code",
   "execution_count": 5,
   "metadata": {
    "collapsed": true
   },
   "outputs": [],
   "source": [
    "tf.reset_default_graph()\n",
    "\n",
    "# tf Graph input\n",
    "x = tf.placeholder(\"float\", [None, n_features])\n",
    "y = tf.placeholder(\"float\", [None, n_classes])\n",
    "keep_prob = tf.placeholder(tf.float32, name='keep_prob')\n",
    "\n",
    "# Define weights\n",
    "W = {\n",
    "    'h1': tf.Variable(tf.random_normal([n_features, n_hidden_1], stddev=st_dev)),\n",
    "    'h2': tf.Variable(tf.random_normal([n_hidden_1, n_hidden_2], stddev=st_dev)),\n",
    "    'out': tf.Variable(tf.truncated_normal([n_hidden_2, n_classes], stddev=st_dev))\n",
    "}\n",
    "\n",
    "b = {\n",
    "    'b1': tf.Variable(tf.random_normal([n_hidden_1])),\n",
    "    'b2': tf.Variable(tf.random_normal([n_hidden_2])),\n",
    "    'out': tf.Variable(tf.zeros([n_classes]))\n",
    "}"
   ]
  },
  {
   "cell_type": "code",
   "execution_count": 6,
   "metadata": {
    "collapsed": true
   },
   "outputs": [],
   "source": [
    "def basic_neural_network(x, W, b):\n",
    "    # Hidden layer with RELU activation\n",
    "    hidden_1 = tf.add(tf.matmul(x, W['h1']), b['b1'])\n",
    "    hidden_1 = tf.nn.relu(hidden_1)\n",
    "    # Hidden layer with RELU activation\n",
    "    hidden_2 = tf.add(tf.matmul(hidden_1, W['h2']), b['b2'])\n",
    "    hidden_2 = tf.nn.relu(hidden_2)\n",
    "    # Output layer with linear activation\n",
    "    out_layer = tf.matmul(hidden_2, W['out']) + b['out']\n",
    "    #out_layer = tf.nn.relu(out_layer)\n",
    "    return out_layer"
   ]
  },
  {
   "cell_type": "code",
   "execution_count": 7,
   "metadata": {
    "collapsed": true
   },
   "outputs": [],
   "source": [
    "# Construct model\n",
    "pred = basic_neural_network(x, W, b)\n",
    "\n",
    "# Define loss and optimizer\n",
    "cost = tf.reduce_mean(tf.nn.softmax_cross_entropy_with_logits(logits=pred, labels=y))\n",
    "optimizer = tf.train.AdamOptimizer(learning_rate=learning_rate).minimize(cost)\n",
    "\n",
    "correct_pred = tf.equal(tf.argmax(pred,1), tf.argmax(y,1))\n",
    "accuracy = tf.reduce_mean(tf.cast(correct_pred, tf.float32))"
   ]
  },
  {
   "cell_type": "code",
   "execution_count": 10,
   "metadata": {},
   "outputs": [
    {
     "name": "stdout",
     "output_type": "stream",
     "text": [
      "Iter 12800, Minibatch Loss= 1.497441, Training Accuracy= 0.00391\n",
      "Iter 25600, Minibatch Loss= 0.000975, Training Accuracy= 1.00000\n",
      "Iter 38400, Minibatch Loss= 0.000996, Training Accuracy= 1.00000\n",
      "('Validation Accuracy:', 0.57750887)\n",
      "Iter 51200, Minibatch Loss= 0.365535, Training Accuracy= 0.98828\n",
      "Iter 64000, Minibatch Loss= 0.000171, Training Accuracy= 1.00000\n",
      "Iter 76800, Minibatch Loss= 0.020257, Training Accuracy= 1.00000\n",
      "Iter 89600, Minibatch Loss= 0.021414, Training Accuracy= 1.00000\n",
      "('Validation Accuracy:', 0.61886835)\n",
      "Iter 102400, Minibatch Loss= 0.000131, Training Accuracy= 1.00000\n",
      "Iter 115200, Minibatch Loss= 0.002017, Training Accuracy= 1.00000\n",
      "Iter 128000, Minibatch Loss= 0.000077, Training Accuracy= 1.00000\n",
      "Iter 140800, Minibatch Loss= 1.241068, Training Accuracy= 0.82031\n",
      "('Validation Accuracy:', 0.78535122)\n",
      "Iter 153600, Minibatch Loss= 0.005427, Training Accuracy= 1.00000\n",
      "Iter 166400, Minibatch Loss= 0.001165, Training Accuracy= 1.00000\n",
      "Iter 179200, Minibatch Loss= 0.000826, Training Accuracy= 1.00000\n",
      "Iter 192000, Minibatch Loss= 0.000632, Training Accuracy= 1.00000\n",
      "('Validation Accuracy:', 0.78548622)\n",
      "Iter 204800, Minibatch Loss= 0.000505, Training Accuracy= 1.00000\n",
      "Iter 217600, Minibatch Loss= 0.000424, Training Accuracy= 1.00000\n",
      "Iter 230400, Minibatch Loss= 0.000363, Training Accuracy= 1.00000\n",
      "Iter 243200, Minibatch Loss= 0.000316, Training Accuracy= 1.00000\n",
      "('Validation Accuracy:', 0.78545088)\n",
      "Iter 256000, Minibatch Loss= 0.000278, Training Accuracy= 1.00000\n",
      "Iter 268800, Minibatch Loss= 0.000247, Training Accuracy= 1.00000\n",
      "Iter 281600, Minibatch Loss= 0.000221, Training Accuracy= 1.00000\n",
      "Iter 294400, Minibatch Loss= 0.000200, Training Accuracy= 1.00000\n",
      "('Validation Accuracy:', 0.78527725)\n",
      "Iter 307200, Minibatch Loss= 0.000181, Training Accuracy= 1.00000\n",
      "Iter 320000, Minibatch Loss= 0.000166, Training Accuracy= 1.00000\n",
      "Iter 332800, Minibatch Loss= 0.000151, Training Accuracy= 1.00000\n",
      "Iter 345600, Minibatch Loss= 0.066475, Training Accuracy= 0.98828\n",
      "('Validation Accuracy:', 0.6899035)\n",
      "Iter 358400, Minibatch Loss= 0.001123, Training Accuracy= 1.00000\n",
      "Iter 371200, Minibatch Loss= 0.379793, Training Accuracy= 0.89453\n",
      "Iter 384000, Minibatch Loss= 0.000005, Training Accuracy= 1.00000\n",
      "Iter 396800, Minibatch Loss= 0.653000, Training Accuracy= 0.79688\n",
      "('Validation Accuracy:', 0.78537047)\n",
      "Iter 409600, Minibatch Loss= 0.000603, Training Accuracy= 1.00000\n",
      "Iter 422400, Minibatch Loss= 0.000300, Training Accuracy= 1.00000\n",
      "Iter 435200, Minibatch Loss= 0.000251, Training Accuracy= 1.00000\n",
      "Iter 448000, Minibatch Loss= 0.000215, Training Accuracy= 1.00000\n",
      "('Validation Accuracy:', 0.914217)\n",
      "Iter 460800, Minibatch Loss= 0.051753, Training Accuracy= 1.00000\n",
      "Iter 473600, Minibatch Loss= 0.000001, Training Accuracy= 1.00000\n",
      "Iter 486400, Minibatch Loss= 0.000007, Training Accuracy= 1.00000\n",
      "Iter 499200, Minibatch Loss= 0.025282, Training Accuracy= 0.99609\n",
      "('Validation Accuracy:', 0.90769994)\n",
      "Iter 512000, Minibatch Loss= 0.000273, Training Accuracy= 1.00000\n",
      "Iter 524800, Minibatch Loss= 0.000383, Training Accuracy= 1.00000\n",
      "Iter 537600, Minibatch Loss= 0.000035, Training Accuracy= 1.00000\n",
      "Iter 550400, Minibatch Loss= 0.001317, Training Accuracy= 1.00000\n",
      "('Validation Accuracy:', 0.73900825)\n",
      "Iter 563200, Minibatch Loss= 0.000013, Training Accuracy= 1.00000\n",
      "Iter 576000, Minibatch Loss= 0.001696, Training Accuracy= 1.00000\n",
      "Iter 588800, Minibatch Loss= 0.007104, Training Accuracy= 1.00000\n",
      "Iter 601600, Minibatch Loss= 0.006919, Training Accuracy= 1.00000\n",
      "('Validation Accuracy:', 0.88301092)\n",
      "Iter 614400, Minibatch Loss= 0.000298, Training Accuracy= 1.00000\n",
      "Iter 627200, Minibatch Loss= 0.000186, Training Accuracy= 1.00000\n",
      "Iter 640000, Minibatch Loss= 0.642189, Training Accuracy= 0.93750\n",
      "Iter 652800, Minibatch Loss= 0.000089, Training Accuracy= 1.00000\n",
      "('Validation Accuracy:', 0.78728026)\n",
      "Iter 665600, Minibatch Loss= 0.000008, Training Accuracy= 1.00000\n",
      "Iter 678400, Minibatch Loss= 0.000045, Training Accuracy= 1.00000\n",
      "Iter 691200, Minibatch Loss= 0.000001, Training Accuracy= 1.00000\n",
      "Iter 704000, Minibatch Loss= 0.000000, Training Accuracy= 1.00000\n",
      "('Validation Accuracy:', 0.78534478)\n",
      "Iter 716800, Minibatch Loss= 0.000000, Training Accuracy= 1.00000\n",
      "Iter 729600, Minibatch Loss= 0.000000, Training Accuracy= 1.00000\n",
      "Iter 742400, Minibatch Loss= 0.000000, Training Accuracy= 1.00000\n",
      "Iter 755200, Minibatch Loss= 0.000000, Training Accuracy= 1.00000\n",
      "('Validation Accuracy:', 0.78495252)\n",
      "Iter 768000, Minibatch Loss= 0.000000, Training Accuracy= 1.00000\n",
      "Iter 780800, Minibatch Loss= 0.000000, Training Accuracy= 1.00000\n",
      "Iter 793600, Minibatch Loss= 0.000000, Training Accuracy= 1.00000\n",
      "Iter 806400, Minibatch Loss= 0.000000, Training Accuracy= 1.00000\n",
      "('Validation Accuracy:', 0.78469211)\n",
      "Iter 819200, Minibatch Loss= 0.000000, Training Accuracy= 1.00000\n",
      "Iter 832000, Minibatch Loss= 0.000000, Training Accuracy= 1.00000\n",
      "Iter 844800, Minibatch Loss= 0.002066, Training Accuracy= 1.00000\n",
      "Iter 857600, Minibatch Loss= 0.000176, Training Accuracy= 1.00000\n",
      "('Validation Accuracy:', 0.78776574)\n",
      "Iter 870400, Minibatch Loss= 0.000003, Training Accuracy= 1.00000\n",
      "Iter 883200, Minibatch Loss= 0.000006, Training Accuracy= 1.00000\n",
      "Iter 896000, Minibatch Loss= 0.000001, Training Accuracy= 1.00000\n",
      "Iter 908800, Minibatch Loss= 0.000000, Training Accuracy= 1.00000\n",
      "('Validation Accuracy:', 0.78759217)\n",
      "Iter 921600, Minibatch Loss= 0.000000, Training Accuracy= 1.00000\n",
      "Iter 934400, Minibatch Loss= 0.000000, Training Accuracy= 1.00000\n",
      "Iter 947200, Minibatch Loss= 0.007646, Training Accuracy= 1.00000\n",
      "Iter 960000, Minibatch Loss= 0.000004, Training Accuracy= 1.00000\n",
      "('Validation Accuracy:', 0.90708905)\n",
      "Iter 972800, Minibatch Loss= 0.000001, Training Accuracy= 1.00000\n",
      "Iter 985600, Minibatch Loss= 0.004462, Training Accuracy= 1.00000\n",
      "Iter 998400, Minibatch Loss= 0.000015, Training Accuracy= 1.00000\n",
      "Optimization Finished!\n"
     ]
    },
    {
     "ename": "AttributeError",
     "evalue": "'dict' object has no attribute 'confusion_matrix'",
     "output_type": "error",
     "traceback": [
      "\u001b[0;31m---------------------------------------------------------------------------\u001b[0m",
      "\u001b[0;31mAttributeError\u001b[0m                            Traceback (most recent call last)",
      "\u001b[0;32m<ipython-input-10-4c4ae20c69b0>\u001b[0m in \u001b[0;36m<module>\u001b[0;34m()\u001b[0m\n\u001b[1;32m     45\u001b[0m     \u001b[0;31m#print \"f1_score\", metrics.f1_score(y_true, y_pred, average='weighted')\u001b[0m\u001b[0;34m\u001b[0m\u001b[0;34m\u001b[0m\u001b[0m\n\u001b[1;32m     46\u001b[0m     \u001b[0;31m#print \"confusion_matrix\"\u001b[0m\u001b[0;34m\u001b[0m\u001b[0;34m\u001b[0m\u001b[0m\n\u001b[0;32m---> 47\u001b[0;31m     \u001b[0mconf_matrix\u001b[0m \u001b[0;34m=\u001b[0m \u001b[0mmetrics\u001b[0m\u001b[0;34m.\u001b[0m\u001b[0mconfusion_matrix\u001b[0m\u001b[0;34m(\u001b[0m\u001b[0my_true\u001b[0m\u001b[0;34m,\u001b[0m \u001b[0my_pred\u001b[0m\u001b[0;34m)\u001b[0m\u001b[0;34m\u001b[0m\u001b[0m\n\u001b[0m\u001b[1;32m     48\u001b[0m     \u001b[0;31m#print metrics.confusion_matrix(y_true, y_pred)\u001b[0m\u001b[0;34m\u001b[0m\u001b[0;34m\u001b[0m\u001b[0m\n\u001b[1;32m     49\u001b[0m     \u001b[0;31m#print np.sum(metrics.confusion_matrix(y_true, y_pred))\u001b[0m\u001b[0;34m\u001b[0m\u001b[0;34m\u001b[0m\u001b[0m\n",
      "\u001b[0;31mAttributeError\u001b[0m: 'dict' object has no attribute 'confusion_matrix'"
     ]
    }
   ],
   "source": [
    "\n",
    "\n",
    "init = tf.global_variables_initializer()\n",
    "\n",
    "# Launch the graph\n",
    "with tf.Session() as sess:\n",
    "    sess.run(init)\n",
    "    step = 1\n",
    "    # Keep training until reach max iterations\n",
    "    while step * batch_size < training_iters:\n",
    "        offset = (step * batch_size) % (y_train.shape[0] - batch_size)\n",
    "        # Generate a minibatch.\n",
    "        #print offset\n",
    "        batch_x = x_train[offset:(offset + batch_size), :]\n",
    "        batch_y = y_train[offset:(offset + batch_size), :]\n",
    "\n",
    "        # Run optimization op (backprop)\n",
    "        sess.run(optimizer, feed_dict={x: batch_x, y: batch_y})\n",
    "        if step % display_step == 0:\n",
    "            # Calculate batch accuracy\n",
    "            acc = sess.run(accuracy, feed_dict={x: batch_x, y: batch_y})\n",
    "            # Calculate batch loss\n",
    "            loss = sess.run(cost, feed_dict={x: batch_x, y: batch_y})\n",
    "            print(\"Iter \" + str(step*batch_size) + \", Minibatch Loss= \" + \\\n",
    "                  \"{:.6f}\".format(loss) + \", Training Accuracy= \" + \\\n",
    "                  \"{:.5f}\".format(acc))\n",
    "        step += 1\n",
    "        \n",
    "        if step % display_testing_step == 0:\n",
    "        \n",
    "            test_len = 20000\n",
    "            test_data = x_test[:]\n",
    "            test_label = y_test[:]\n",
    "            print(\"Validation Accuracy:\", sess.run(accuracy, feed_dict={x: test_data, y: test_label}))\n",
    "        \n",
    "                \n",
    "    print(\"Optimization Finished!\")\n",
    "\n",
    "    \n",
    "    y_p = tf.argmax(pred, 1)\n",
    "    val_accuracy, y_pred = sess.run([accuracy, y_p], feed_dict={x:x_test, y:y_test})\n",
    "\n",
    "    #print \"Validation accuracy:\", val_accuracy\n",
    "    y_true = np.argmax(test_label,1)\n",
    "    #print \"Precision\", metrics.precision_score(y_true, y_pred, average ='weighted')\n",
    "    #print \"Recall\", metrics.recall_score(y_true, y_pred, average = 'weighted')\n",
    "    #print \"f1_score\", metrics.f1_score(y_true, y_pred, average='weighted')\n",
    "    #print \"confusion_matrix\"\n",
    "    conf_matrix = metrics.confusion_matrix(y_true, y_pred)\n",
    "    #print metrics.confusion_matrix(y_true, y_pred)\n",
    "    #print np.sum(metrics.confusion_matrix(y_true, y_pred))\n"
   ]
  },
  {
   "cell_type": "code",
   "execution_count": 11,
   "metadata": {},
   "outputs": [
    {
     "data": {
      "image/png": "[encoded data removed]",
      "text/plain": [
       "<matplotlib.figure.Figure at 0x12c51b990>"
      ]
     },
     "metadata": {
      "image/png": {
       "height": 481,
       "width": 1058
      }
     },
     "output_type": "display_data"
    }
   ],
   "source": [
    "\n",
    "conf = [60262, 243, 78, 4, 6,511, 3471, 184, 0, 0, 5299, 1328, 223226, 0, 0, 68, 20, 0, 30, 10, 14527, 294, 0, 8, 1360]\n",
    "conf_bench = np.array(conf).reshape(5,5)\n",
    "metrics = hm.computePerformanceMetrics(conf_bench,conf_matrix)\n",
    "#accuracy_bench =np.sum([float(conf_bench[i][i])/np.sum(conf_bench) for i in range(5)])\n",
    "hm.plotMetrics(metrics)\n",
    "\n",
    "    "
   ]
  },
  {
   "cell_type": "code",
   "execution_count": null,
   "metadata": {
    "collapsed": true
   },
   "outputs": [],
   "source": []
  },
  {
   "cell_type": "code",
   "execution_count": null,
   "metadata": {},
   "outputs": [],
   "source": []
  },
  {
   "cell_type": "code",
   "execution_count": null,
   "metadata": {
    "collapsed": true
   },
   "outputs": [],
   "source": []
  },
  {
   "cell_type": "code",
   "execution_count": null,
   "metadata": {
    "collapsed": true
   },
   "outputs": [],
   "source": []
  }
 ],
 "metadata": {
  "kernelspec": {
   "display_name": "Python 2",
   "language": "python",
   "name": "python2"
  },
  "language_info": {
   "codemirror_mode": {
    "name": "ipython",
    "version": 2
   },
   "file_extension": ".py",
   "mimetype": "text/x-python",
   "name": "python",
   "nbconvert_exporter": "python",
   "pygments_lexer": "ipython2",
   "version": "2.7.13"
  }
 },
 "nbformat": 4,
 "nbformat_minor": 2
}
