{
 "cells": [
  {
   "cell_type": "code",
   "execution_count": 1,
   "metadata": {
    "collapsed": true
   },
   "outputs": [],
   "source": [
    "import numpy as np\n",
    "from pandas import DataFrame, read_csv\n",
    "import tensorflow as tf\n",
    "import os\n",
    "\n",
    "    "
   ]
  },
  {
   "cell_type": "code",
   "execution_count": 2,
   "metadata": {
    "collapsed": false
   },
   "outputs": [],
   "source": [
    "df = DataFrame(data = read_csv(os.getcwd() + '/NSL_KDD/KDDTrain+.csv'))"
   ]
  },
  {
   "cell_type": "code",
   "execution_count": 7,
   "metadata": {
    "collapsed": false
   },
   "outputs": [
    {
     "name": "stdout",
     "output_type": "stream",
     "text": [
      "    0  tcp  ftp_data   SF   491   0.1  0.2  0.3  0.4  0.5 ...  0.17.1  0.03  \\\n",
      "90  0  tcp      http   SF   353  1483    0    0    0    0 ...    0.00  0.00   \n",
      "91  0  udp  domain_u   SF    44    44    0    0    0    0 ...    0.01  0.01   \n",
      "92  0  tcp   private  REJ     0     0    0    0    0    0 ...    0.00  0.08   \n",
      "93  0  tcp  csnet_ns   S0     0     0    0    0    0    0 ...    0.00  0.07   \n",
      "94  2  tcp      smtp   SF  3065   331    0    0    0    0 ...    0.00  0.02   \n",
      "\n",
      "    0.17.1  0.24  0.25  0.26  0.05  0.27   normal  20  \n",
      "90    0.00  0.00  0.00  0.00   0.0   0.0   normal  21  \n",
      "91    0.01  0.00  0.00  0.00   0.0   0.0   normal  18  \n",
      "92    0.00  0.00  0.00  0.00   1.0   1.0  neptune  21  \n",
      "93    0.00  0.00  1.00  1.00   0.0   0.0  neptune  18  \n",
      "94    0.00  0.02  0.01  0.02   0.0   0.0   normal  21  \n",
      "\n",
      "[5 rows x 43 columns]\n"
     ]
    }
   ],
   "source": [
    "'''\n",
    "    duration,continuous\n",
    "    protocol_type,symbolic\n",
    "    service,symbolic\n",
    "    flag,symbolic\n",
    "    src_bytes,continuous\n",
    "    dst_bytes,continuous\n",
    "    land,continuous\n",
    "    wrong_fragment,continuous\n",
    "    urgent,continuous\n",
    "    hot,continuous\n",
    "    num_failed_logins,continuous\n",
    "    logged_in,continuous\n",
    "    num_compromised,continuous\n",
    "    root_shell,continuous\n",
    "    su_attempted,continuous\n",
    "    num_root,continuous\n",
    "    num_file_creations,continuous\n",
    "    num_shells,continuous\n",
    "    num_access_files,continuous\n",
    "    num_outbound_cmds,continuous\n",
    "    is_host_login,continuous\n",
    "    is_guest_login,continuous\n",
    "    count,continuous\n",
    "    srv_count,continuous\n",
    "    serror_rate,continuous\n",
    "    srv_serror_rate,continuous\n",
    "    rerror_rate,continuous\n",
    "    srv_rerror_rate,continuous\n",
    "    same_srv_rate,continuous\n",
    "    diff_srv_rate,continuous\n",
    "    srv_diff_host_rate,continuous\n",
    "    dst_host_count,continuous\n",
    "    dst_host_srv_count,continuous\n",
    "    dst_host_same_srv_rate,continuous\n",
    "    dst_host_diff_srv_rate,continuous\n",
    "    dst_host_same_src_port_rate,continuous\n",
    "    dst_host_srv_diff_host_rate,continuous\n",
    "    dst_host_serror_rate,continuous\n",
    "    dst_host_srv_serror_rate,continuous\n",
    "    dst_host_rerror_rate,continuous\n",
    "    dst_host_srv_rerror_rate,continuous\n",
    "'''"
   ]
  },
  {
   "cell_type": "code",
   "execution_count": null,
   "metadata": {
    "collapsed": true
   },
   "outputs": [],
   "source": []
  }
 ],
 "metadata": {
  "kernelspec": {
   "display_name": "Python 3",
   "language": "python",
   "name": "python3"
  },
  "language_info": {
   "codemirror_mode": {
    "name": "ipython",
    "version": 3
   },
   "file_extension": ".py",
   "mimetype": "text/x-python",
   "name": "python",
   "nbconvert_exporter": "python",
   "pygments_lexer": "ipython3",
   "version": "3.6.0"
  }
 },
 "nbformat": 4,
 "nbformat_minor": 2
}
