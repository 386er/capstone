{
 "cells": [
  {
   "cell_type": "code",
   "execution_count": 1,
   "metadata": {
    "collapsed": true
   },
   "outputs": [],
   "source": [
    "import numpy as np\n",
    "from pandas import DataFrame, read_csv\n",
    "import os\n",
    "from sklearn import preprocessing\n",
    "    "
   ]
  },
  {
   "cell_type": "code",
   "execution_count": 11,
   "metadata": {
    "collapsed": false
   },
   "outputs": [],
   "source": [
    "# Read in data\n",
    "\n",
    "header = list(read_csv('Field Names.csv', header=None)[0])\n",
    "field_types = read_csv('Field Names.csv', names=['field_name','field_type'])\n",
    "intrusions = read_csv('Attack Types.csv', names=['attack_type','attack_group','set'])\n",
    "data_train = read_csv('KDDTrain+.csv', names=header)\n",
    "data_test = read_csv('KDDTest+.csv', names=header)\n",
    "\n",
    "x_train = data_train.ix[:,:-2]\n",
    "y_train = data_train.ix[:,-2:-1]\n",
    "\n",
    "x_test = data_test.ix[:,:-2]\n",
    "y_test = data_test.ix[:,-2:-1]\n"
   ]
  },
  {
   "cell_type": "code",
   "execution_count": 12,
   "metadata": {
    "collapsed": false
   },
   "outputs": [],
   "source": [
    "# Mapping of attack types\n",
    "\n",
    "attack_tuples = list(zip(intrusions.attack_type, intrusions.attack_group))\n",
    "attack_mapping = {entry[0]:entry[1] for entry in attack_tuples}\n",
    "\n",
    "y_train = y_train.replace({'attack_type':attack_mapping})\n",
    "y_test = y_test.replace({'attack_type':attack_mapping})\n"
   ]
  },
  {
   "cell_type": "code",
   "execution_count": 13,
   "metadata": {
    "collapsed": false
   },
   "outputs": [],
   "source": [
    "# Encoding the data\n",
    "\n",
    "protocol_types = x_train.protocol_type.unique()\n",
    "services = x_train.service.unique()\n",
    "flags = x_train.flag.unique()\n",
    "attack_types = y_train.attack_type.unique()\n",
    "\n",
    "le = preprocessing.LabelEncoder()\n",
    "\n",
    "le.fit(protocol_types)\n",
    "x_train.protocol_type = le.transform(x_train.protocol_type)\n",
    "x_test.protocol_type = le.transform(x_test.protocol_type)\n",
    "\n",
    "\n",
    "le.fit(services)\n",
    "x_train.service = le.transform(x_train.service)\n",
    "x_test.service = le.transform(x_test.service)\n",
    "\n",
    "le.fit(flags)\n",
    "x_train.flag = le.transform(x_train.flag)\n",
    "x_test.flag = le.transform(x_test.flag)\n",
    "\n",
    "le.fit(attack_types)\n",
    "y_train.attack_type = le.transform(y_train.attack_type)\n",
    "y_test.attack_type = le.transform(y_test.attack_type)\n",
    "\n"
   ]
  },
  {
   "cell_type": "code",
   "execution_count": 29,
   "metadata": {
    "collapsed": false
   },
   "outputs": [
    {
     "name": "stdout",
     "output_type": "stream",
     "text": [
      "{'num_access_files': 0, 'src_bytes': 0, 'srv_count': 0, 'num_compromised': 0, 'rerror_rate': 0.0, 'urgent': 0, 'dst_host_same_srv_rate': 0.0, 'duration': 0, 'srv_rerror_rate': 0.0, 'srv_serror_rate': 0.0, 'is_host_login': 0, 'wrong_fragment': 0, 'serror_rate': 0.0, 'num_outbound_cmds': 0, 'is_guest_login': 0, 'dst_host_rerror_rate': 0.0, 'dst_host_srv_serror_rate': 0.0, 'diff_srv_rate': 0.0, 'hot': 0, 'dst_host_srv_count': 0, 'logged_in': 0, 'num_shells': 0, 'dst_host_srv_diff_host_rate': 0.0, 'srv_diff_host_rate': 0.0, 'dst_host_same_src_port_rate': 0.0, 'root_shell': 0, 'su_attempted': 0, 'dst_host_count': 0, 'num_file_creations': 0, 'count': 0, 'land': 0, 'same_srv_rate': 0.0, 'dst_bytes': 0, 'dst_host_diff_srv_rate': 0.0, 'dst_host_srv_rerror_rate': 0.0, 'num_root': 0, 'num_failed_logins': 0, 'dst_host_serror_rate': 0.0}\n"
     ]
    }
   ],
   "source": [
    "# Normalizing the data\n",
    "\n",
    "field_tuples = list(zip(field_types.field_name, field_types.field_type))\n",
    "fields = [field_tuple[0] for field_tuple in field_tuples if field_tuple[1] == 'continuous']\n",
    "\n",
    "field_max_values = {field:np.amax(x_train[field]) for field in fields}\n",
    "field_max_values = {field:np.amax(x_test[field]) if np.amax(x_test[field]) > field_max_values[field] else field_max_values[field] for field in fields}                                                                                                                                             \n",
    "\n",
    "field_min_values = {field:np.amin(x_train[field]) for field in fields}\n",
    "field_min_values = {field:np.amin(x_test[field]) if np.amin(x_test[field]) > field_min_values[field] else field_min_values[field] for field in fields}                                                                                                                                             \n",
    "                      \n",
    "\n",
    "\n",
    "\n",
    "    \n",
    "    \n"
   ]
  },
  {
   "cell_type": "code",
   "execution_count": null,
   "metadata": {
    "collapsed": true
   },
   "outputs": [],
   "source": []
  },
  {
   "cell_type": "code",
   "execution_count": null,
   "metadata": {
    "collapsed": true
   },
   "outputs": [],
   "source": []
  }
 ],
 "metadata": {
  "anaconda-cloud": {},
  "kernelspec": {
   "display_name": "Python 2",
   "language": "python",
   "name": "python2"
  },
  "language_info": {
   "codemirror_mode": {
    "name": "ipython",
    "version": 2
   },
   "file_extension": ".py",
   "mimetype": "text/x-python",
   "name": "python",
   "nbconvert_exporter": "python",
   "pygments_lexer": "ipython2",
   "version": "2.7.13"
  }
 },
 "nbformat": 4,
 "nbformat_minor": 2
}
