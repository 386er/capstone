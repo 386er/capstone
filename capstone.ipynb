{
 "cells": [
  {
   "cell_type": "code",
   "execution_count": 11,
   "metadata": {
    "collapsed": true
   },
   "outputs": [],
   "source": [
    "import numpy as np\n",
    "from pandas import DataFrame, read_csv\n",
    "import os\n",
    "from sklearn import preprocessing\n",
    "    "
   ]
  },
  {
   "cell_type": "code",
   "execution_count": 18,
   "metadata": {
    "collapsed": false
   },
   "outputs": [],
   "source": [
    "# Read in data\n",
    "\n",
    "header = list(read_csv(os.getcwd() + '\\NSL_KDD\\Field Names.csv', header=None)[0])\n",
    "field_types = read_csv(os.getcwd() + '\\NSL_KDD\\Field Names.csv', names=['field_name','field_type'])\n",
    "intrusions = read_csv(os.getcwd() + '\\NSL_KDD\\Attack Types.csv', names=['attack_type','attack_group','set'])\n",
    "data_train = read_csv(os.getcwd() + '\\NSL_KDD\\KDDTrain+.csv', names=header)\n",
    "data_test = read_csv(os.getcwd() + '\\NSL_KDD\\KDDTest+.csv', names=header)\n",
    "\n",
    "x_train = data_train.ix[:,:-2]\n",
    "y_train = data_train.ix[:,-2:-1]\n",
    "\n",
    "x_test = data_test.ix[:,:-2]\n",
    "y_test = data_test.ix[:,-2:-1]\n"
   ]
  },
  {
   "cell_type": "code",
   "execution_count": 13,
   "metadata": {
    "collapsed": false
   },
   "outputs": [],
   "source": [
    "# Mapping of attack types\n",
    "\n",
    "attack_tuples = list(zip(intrusions.attack_type, intrusions.attack_group))\n",
    "attack_mapping = {entry[0]:entry[1] for entry in attack_tuples}\n",
    "\n",
    "y_train = y_train.replace({'attack_type':attack_mapping})\n",
    "y_test = y_test.replace({'attack_type':attack_mapping})\n"
   ]
  },
  {
   "cell_type": "code",
   "execution_count": 14,
   "metadata": {
    "collapsed": false
   },
   "outputs": [],
   "source": [
    "# Encoding the data\n",
    "\n",
    "protocol_types = x_train.protocol_type.unique()\n",
    "services = x_train.service.unique()\n",
    "flags = x_train.flag.unique()\n",
    "attack_types = y_train.attack_type.unique()\n",
    "\n",
    "le = preprocessing.LabelEncoder()\n",
    "\n",
    "le.fit(protocol_types)\n",
    "x_train.protocol_type = le.transform(x_train.protocol_type)\n",
    "x_test.protocol_type = le.transform(x_test.protocol_type)\n",
    "\n",
    "\n",
    "le.fit(services)\n",
    "x_train.service = le.transform(x_train.service)\n",
    "x_test.service = le.transform(x_test.service)\n",
    "\n",
    "le.fit(flags)\n",
    "x_train.flag = le.transform(x_train.flag)\n",
    "x_test.flag = le.transform(x_test.flag)\n",
    "\n",
    "le.fit(attack_types)\n",
    "y_train.attack_type = le.transform(y_train.attack_type)\n",
    "y_test.attack_type = le.transform(y_test.attack_type)\n",
    "\n"
   ]
  },
  {
   "cell_type": "code",
   "execution_count": 20,
   "metadata": {
    "collapsed": false
   },
   "outputs": [
    {
     "data": {
      "text/plain": [
       "[('duration', 'continuous'),\n",
       " ('protocol_type', 'symbolic'),\n",
       " ('service', 'symbolic'),\n",
       " ('flag', 'symbolic'),\n",
       " ('src_bytes', 'continuous'),\n",
       " ('dst_bytes', 'continuous'),\n",
       " ('land', 'continuous'),\n",
       " ('wrong_fragment', 'continuous'),\n",
       " ('urgent', 'continuous'),\n",
       " ('hot', 'continuous'),\n",
       " ('num_failed_logins', 'continuous'),\n",
       " ('logged_in', 'continuous'),\n",
       " ('num_compromised', 'continuous'),\n",
       " ('root_shell', 'continuous'),\n",
       " ('su_attempted', 'continuous'),\n",
       " ('num_root', 'continuous'),\n",
       " ('num_file_creations', 'continuous'),\n",
       " ('num_shells', 'continuous'),\n",
       " ('num_access_files', 'continuous'),\n",
       " ('num_outbound_cmds', 'continuous'),\n",
       " ('is_host_login', 'continuous'),\n",
       " ('is_guest_login', 'continuous'),\n",
       " ('count', 'continuous'),\n",
       " ('srv_count', 'continuous'),\n",
       " ('serror_rate', 'continuous'),\n",
       " ('srv_serror_rate', 'continuous'),\n",
       " ('rerror_rate', 'continuous'),\n",
       " ('srv_rerror_rate', 'continuous'),\n",
       " ('same_srv_rate', 'continuous'),\n",
       " ('diff_srv_rate', 'continuous'),\n",
       " ('srv_diff_host_rate', 'continuous'),\n",
       " ('dst_host_count', 'continuous'),\n",
       " ('dst_host_srv_count', 'continuous'),\n",
       " ('dst_host_same_srv_rate', 'continuous'),\n",
       " ('dst_host_diff_srv_rate', 'continuous'),\n",
       " ('dst_host_same_src_port_rate', 'continuous'),\n",
       " ('dst_host_srv_diff_host_rate', 'continuous'),\n",
       " ('dst_host_serror_rate', 'continuous'),\n",
       " ('dst_host_srv_serror_rate', 'continuous'),\n",
       " ('dst_host_rerror_rate', 'continuous'),\n",
       " ('dst_host_srv_rerror_rate', 'continuous'),\n",
       " ('attack_type', 'symbolic'),\n",
       " ('attack_type_index', ' continuous')]"
      ]
     },
     "execution_count": 20,
     "metadata": {},
     "output_type": "execute_result"
    }
   ],
   "source": [
    "# Normalizing\n",
    "\n",
    "field_tuples = list(zip(field_types.field_name, field_types.field_type))\n",
    "\n",
    "field_tuples\n",
    "\n",
    "\n"
   ]
  },
  {
   "cell_type": "code",
   "execution_count": null,
   "metadata": {
    "collapsed": true
   },
   "outputs": [],
   "source": []
  },
  {
   "cell_type": "code",
   "execution_count": null,
   "metadata": {
    "collapsed": true
   },
   "outputs": [],
   "source": []
  }
 ],
 "metadata": {
  "anaconda-cloud": {},
  "kernelspec": {
   "display_name": "Python [default]",
   "language": "python",
   "name": "python2"
  },
  "language_info": {
   "codemirror_mode": {
    "name": "ipython",
    "version": 2
   },
   "file_extension": ".py",
   "mimetype": "text/x-python",
   "name": "python",
   "nbconvert_exporter": "python",
   "pygments_lexer": "ipython2",
   "version": "2.7.12"
  }
 },
 "nbformat": 4,
 "nbformat_minor": 2
}
