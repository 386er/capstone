{
 "cells": [
  {
   "cell_type": "code",
   "execution_count": 19,
   "metadata": {
    "collapsed": true
   },
   "outputs": [],
   "source": [
    "import numpy as np\n",
    "from pandas import DataFrame, read_csv\n",
    "import os\n",
    "from sklearn import preprocessing\n",
    "    "
   ]
  },
  {
   "cell_type": "code",
   "execution_count": 20,
   "metadata": {
    "collapsed": false
   },
   "outputs": [],
   "source": [
    "# Read in data\n",
    "\n",
    "header = list(read_csv('Field Names.csv', header=None)[0])\n",
    "field_types = read_csv('Field Names.csv', names=['field_name','field_type'])\n",
    "intrusions = read_csv('Attack Types.csv', names=['attack_type','attack_group','set'])\n",
    "data_train = read_csv('KDDTrain+.csv', names=header)\n",
    "data_test = read_csv('KDDTest+.csv', names=header)\n",
    "\n",
    "x_train = data_train.ix[:,:-2]\n",
    "y_train = data_train.ix[:,-2:-1]\n",
    "\n",
    "x_test = data_test.ix[:,:-2]\n",
    "y_test = data_test.ix[:,-2:-1]\n"
   ]
  },
  {
   "cell_type": "code",
   "execution_count": 21,
   "metadata": {
    "collapsed": false
   },
   "outputs": [],
   "source": [
    "# Mapping of attack types\n",
    "\n",
    "attack_tuples = list(zip(intrusions.attack_type, intrusions.attack_group))\n",
    "attack_mapping = {entry[0]:entry[1] for entry in attack_tuples}\n",
    "\n",
    "y_train = y_train.replace({'attack_type':attack_mapping})\n",
    "y_test = y_test.replace({'attack_type':attack_mapping})\n"
   ]
  },
  {
   "cell_type": "code",
   "execution_count": 22,
   "metadata": {
    "collapsed": false
   },
   "outputs": [],
   "source": [
    "# Encoding the data\n",
    "\n",
    "protocol_types = x_train.protocol_type.unique()\n",
    "services = x_train.service.unique()\n",
    "flags = x_train.flag.unique()\n",
    "attack_types = y_train.attack_type.unique()\n",
    "\n",
    "le = preprocessing.LabelEncoder()\n",
    "\n",
    "le.fit(protocol_types)\n",
    "x_train.protocol_type = le.transform(x_train.protocol_type)\n",
    "x_test.protocol_type = le.transform(x_test.protocol_type)\n",
    "\n",
    "\n",
    "le.fit(services)\n",
    "x_train.service = le.transform(x_train.service)\n",
    "x_test.service = le.transform(x_test.service)\n",
    "\n",
    "le.fit(flags)\n",
    "x_train.flag = le.transform(x_train.flag)\n",
    "x_test.flag = le.transform(x_test.flag)\n",
    "\n",
    "le.fit(attack_types)\n",
    "y_train.attack_type = le.transform(y_train.attack_type)\n",
    "y_test.attack_type = le.transform(y_test.attack_type)\n",
    "\n"
   ]
  },
  {
   "cell_type": "code",
   "execution_count": 23,
   "metadata": {
    "collapsed": false
   },
   "outputs": [],
   "source": [
    "# Normalizing the data\n",
    "\n",
    "field_tuples = list(zip(field_types.field_name, field_types.field_type))\n",
    "fields = [field_tuple[0] for field_tuple in field_tuples if field_tuple[1] == 'continuous']\n",
    "\n",
    "field_max_values = {field:np.amax(x_train[field]) for field in fields}\n",
    "field_max_values = {field:np.amax(x_test[field]) if np.amax(x_test[field]) > field_max_values[field] else field_max_values[field] for field in fields}                                                                                                                                             \n",
    "\n",
    "field_min_values = {field:np.amin(x_train[field]) for field in fields}\n",
    "field_min_values = {field:np.amin(x_test[field]) if np.amin(x_test[field]) > field_min_values[field] else field_min_values[field] for field in fields}                                                                                                                                             \n",
    "                      "
   ]
  },
  {
   "cell_type": "code",
   "execution_count": 17,
   "metadata": {
    "collapsed": false
   },
   "outputs": [
    {
     "name": "stdout",
     "output_type": "stream",
     "text": [
      "   attack_type\n",
      "0            0\n",
      "1            0\n",
      "2            1\n",
      "3            2\n",
      "4            2\n",
      "5            1\n",
      "6            1\n",
      "7            3\n",
      "8            1\n",
      "9            3\n"
     ]
    }
   ],
   "source": [
    "\n"
   ]
  },
  {
   "cell_type": "code",
   "execution_count": null,
   "metadata": {
    "collapsed": true
   },
   "outputs": [],
   "source": []
  }
 ],
 "metadata": {
  "anaconda-cloud": {},
  "kernelspec": {
   "display_name": "Python 2",
   "language": "python",
   "name": "python2"
  },
  "language_info": {
   "codemirror_mode": {
    "name": "ipython",
    "version": 2
   },
   "file_extension": ".py",
   "mimetype": "text/x-python",
   "name": "python",
   "nbconvert_exporter": "python",
   "pygments_lexer": "ipython2",
   "version": "2.7.13"
  }
 },
 "nbformat": 4,
 "nbformat_minor": 2
}
