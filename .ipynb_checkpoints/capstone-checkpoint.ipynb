{
 "cells": [
  {
   "cell_type": "code",
   "execution_count": 132,
   "metadata": {
    "collapsed": true
   },
   "outputs": [],
   "source": [
    "import numpy as np\n",
    "from pandas import DataFrame, read_csv\n",
    "import os\n",
    "from sklearn import preprocessing\n",
    "    "
   ]
  },
  {
   "cell_type": "code",
   "execution_count": 188,
   "metadata": {
    "collapsed": false
   },
   "outputs": [],
   "source": [
    "#Read in data\n",
    "\n",
    "header = list(read_csv(os.getcwd() + '\\NSL_KDD\\Field Names.csv', header=None)[0])\n",
    "intrusions = read_csv(os.getcwd() + '\\NSL_KDD\\Attack Types.csv', names=['attack_type','attack_group','set'])\n",
    "data_train = read_csv(os.getcwd() + '\\NSL_KDD\\KDDTrain+.csv', names=header)\n",
    "data_test = read_csv(os.getcwd() + '\\NSL_KDD\\KDDTest+.csv', names=header)\n",
    "\n",
    "x_train = data_train.ix[:,:-2]\n",
    "y_train = data_train.ix[:,-2:-1]\n",
    "\n",
    "x_test = data_test.ix[:,:-2]\n",
    "y_test = data_test.ix[:,-2:-1]\n",
    "\n",
    "\n"
   ]
  },
  {
   "cell_type": "code",
   "execution_count": 197,
   "metadata": {
    "collapsed": false
   },
   "outputs": [
    {
     "name": "stdout",
     "output_type": "stream",
     "text": [
      "\n"
     ]
    },
    {
     "ename": "ValueError",
     "evalue": "Replacement not allowed with overlapping keys and values",
     "output_type": "error",
     "traceback": [
      "\u001b[0;31m---------------------------------------------------------------------------\u001b[0m",
      "\u001b[0;31mValueError\u001b[0m                                Traceback (most recent call last)",
      "\u001b[0;32m<ipython-input-197-545dd81cca19>\u001b[0m in \u001b[0;36m<module>\u001b[0;34m()\u001b[0m\n\u001b[1;32m     10\u001b[0m \u001b[1;32mprint\u001b[0m\u001b[1;33m\u001b[0m\u001b[0m\n\u001b[1;32m     11\u001b[0m \u001b[1;33m\u001b[0m\u001b[0m\n\u001b[0;32m---> 12\u001b[0;31m \u001b[0my_train\u001b[0m\u001b[1;33m.\u001b[0m\u001b[0mreplace\u001b[0m\u001b[1;33m(\u001b[0m\u001b[1;33m{\u001b[0m\u001b[1;34m'attack_type'\u001b[0m\u001b[1;33m:\u001b[0m\u001b[0mattack_mapping\u001b[0m\u001b[1;33m}\u001b[0m\u001b[1;33m)\u001b[0m\u001b[1;33m\u001b[0m\u001b[0m\n\u001b[0m\u001b[1;32m     13\u001b[0m \u001b[1;33m\u001b[0m\u001b[0m\n\u001b[1;32m     14\u001b[0m \u001b[1;33m\u001b[0m\u001b[0m\n",
      "\u001b[0;32mD:\\Programme\\Anaconda2\\lib\\site-packages\\pandas\\core\\generic.pyc\u001b[0m in \u001b[0;36mreplace\u001b[0;34m(self, to_replace, value, inplace, limit, regex, method, axis)\u001b[0m\n\u001b[1;32m   3350\u001b[0m                     \u001b[0mkeys\u001b[0m\u001b[1;33m,\u001b[0m \u001b[0mvalues\u001b[0m \u001b[1;33m=\u001b[0m \u001b[0mzip\u001b[0m\u001b[1;33m(\u001b[0m\u001b[1;33m*\u001b[0m\u001b[0mv\u001b[0m\u001b[1;33m.\u001b[0m\u001b[0mitems\u001b[0m\u001b[1;33m(\u001b[0m\u001b[1;33m)\u001b[0m\u001b[1;33m)\u001b[0m\u001b[1;33m\u001b[0m\u001b[0m\n\u001b[1;32m   3351\u001b[0m                     \u001b[1;32mif\u001b[0m \u001b[0mset\u001b[0m\u001b[1;33m(\u001b[0m\u001b[0mkeys\u001b[0m\u001b[1;33m)\u001b[0m \u001b[1;33m&\u001b[0m \u001b[0mset\u001b[0m\u001b[1;33m(\u001b[0m\u001b[0mvalues\u001b[0m\u001b[1;33m)\u001b[0m\u001b[1;33m:\u001b[0m\u001b[1;33m\u001b[0m\u001b[0m\n\u001b[0;32m-> 3352\u001b[0;31m                         raise ValueError(\"Replacement not allowed with \"\n\u001b[0m\u001b[1;32m   3353\u001b[0m                                          \"overlapping keys and values\")\n\u001b[1;32m   3354\u001b[0m                     \u001b[0mto_rep_dict\u001b[0m\u001b[1;33m[\u001b[0m\u001b[0mk\u001b[0m\u001b[1;33m]\u001b[0m \u001b[1;33m=\u001b[0m \u001b[0mlist\u001b[0m\u001b[1;33m(\u001b[0m\u001b[0mkeys\u001b[0m\u001b[1;33m)\u001b[0m\u001b[1;33m\u001b[0m\u001b[0m\n",
      "\u001b[0;31mValueError\u001b[0m: Replacement not allowed with overlapping keys and values"
     ]
    }
   ],
   "source": [
    "# Mapping of attack types\n",
    "\n",
    "\n",
    "attack_tuples = list(zip(intrusions.attack_type, intrusions.attack_group))\n",
    "attack_mapping = {entry[0]:entry[1] for entry in tuples}\n",
    "\n",
    "\n",
    "#print mapping\n",
    "\n",
    "print \n",
    "\n",
    "y_train.replace({'attack_type':attack_mapping})\n",
    "\n",
    "\n",
    "\n",
    "'''\n",
    ">>> df = pd.DataFrame({'col2': {0: 'a', 1: 2, 2: np.nan}, 'col1': {0: 'w', 1: 1, 2: 2}})\n",
    ">>> di = {1: \"A\", 2: \"B\"}\n",
    ">>> df\n",
    "  col1 col2\n",
    "0    w    a\n",
    "1    1    2\n",
    "2    2  NaN\n",
    ">>> df.replace({\"col1\": di})\n",
    "  col1 col2\n",
    "0    w    a\n",
    "1    A    2\n",
    "2    B  NaN\n",
    "'''\n",
    "\n",
    "\n",
    "\n",
    "\n",
    "\n",
    "\n",
    "\n",
    "\n"
   ]
  },
  {
   "cell_type": "code",
   "execution_count": 192,
   "metadata": {
    "collapsed": false
   },
   "outputs": [],
   "source": [
    "# Encoding\n",
    "\n",
    "protocol_types = x_train.protocol_type.unique()\n",
    "services = x_train.service.unique()\n",
    "flags = x_train.flag.unique()\n",
    "\n",
    "le = preprocessing.LabelEncoder()\n",
    "\n",
    "le.fit(protocol_types)\n",
    "x_train.protocol_type = le.transform(x_train.protocol_type)\n",
    "x_test.protocol_type = le.transform(x_test.protocol_type)\n",
    "\n",
    "\n",
    "le.fit(services)\n",
    "x_train.service = le.transform(x_train.service)\n",
    "x_test.service = le.transform(x_test.service)\n",
    "\n",
    "le.fit(flags)\n",
    "x_train.flag = le.transform(x_train.flag)\n",
    "x_test.flag = le.transform(x_test.flag)\n",
    "\n",
    "\n",
    "\n"
   ]
  },
  {
   "cell_type": "code",
   "execution_count": 154,
   "metadata": {
    "collapsed": false
   },
   "outputs": [
    {
     "name": "stdout",
     "output_type": "stream",
     "text": [
      "   duration  protocol_type  service  flag  src_bytes  dst_bytes  land  \\\n",
      "0         0              1       20     9        491          0     0   \n",
      "1         0              2       44     9        146          0     0   \n",
      "\n",
      "   wrong_fragment  urgent  hot            ...             dst_host_count  \\\n",
      "0               0       0    0            ...                        150   \n",
      "1               0       0    0            ...                        255   \n",
      "\n",
      "   dst_host_srv_count  dst_host_same_srv_rate  dst_host_diff_srv_rate  \\\n",
      "0                  25                    0.17                    0.03   \n",
      "1                   1                    0.00                    0.60   \n",
      "\n",
      "   dst_host_same_src_port_rate  dst_host_srv_diff_host_rate  \\\n",
      "0                         0.17                          0.0   \n",
      "1                         0.88                          0.0   \n",
      "\n",
      "   dst_host_serror_rate  dst_host_srv_serror_rate  dst_host_rerror_rate  \\\n",
      "0                   0.0                       0.0                  0.05   \n",
      "1                   0.0                       0.0                  0.00   \n",
      "\n",
      "   dst_host_srv_rerror_rate  \n",
      "0                       0.0  \n",
      "1                       0.0  \n",
      "\n",
      "[2 rows x 41 columns]\n"
     ]
    }
   ],
   "source": [
    "print x_train[0:2]"
   ]
  },
  {
   "cell_type": "code",
   "execution_count": null,
   "metadata": {
    "collapsed": true
   },
   "outputs": [],
   "source": []
  },
  {
   "cell_type": "code",
   "execution_count": null,
   "metadata": {
    "collapsed": true
   },
   "outputs": [],
   "source": []
  }
 ],
 "metadata": {
  "anaconda-cloud": {},
  "kernelspec": {
   "display_name": "Python [default]",
   "language": "python",
   "name": "python2"
  },
  "language_info": {
   "codemirror_mode": {
    "name": "ipython",
    "version": 2
   },
   "file_extension": ".py",
   "mimetype": "text/x-python",
   "name": "python",
   "nbconvert_exporter": "python",
   "pygments_lexer": "ipython2",
   "version": "2.7.12"
  }
 },
 "nbformat": 4,
 "nbformat_minor": 2
}
