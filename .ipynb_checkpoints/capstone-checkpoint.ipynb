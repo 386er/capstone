{
 "cells": [
  {
   "cell_type": "code",
   "execution_count": 8,
   "metadata": {
    "collapsed": false
   },
   "outputs": [],
   "source": [
    "import numpy as np\n",
    "import pickle\n",
    "from pandas import DataFrame, read_csv\n",
    "from sklearn import preprocessing\n",
    "import helperModule as hm\n",
    "import warnings\n",
    "\n",
    "warnings.filterwarnings(\"ignore\")"
   ]
  },
  {
   "cell_type": "code",
   "execution_count": 9,
   "metadata": {
    "collapsed": false
   },
   "outputs": [],
   "source": [
    "#########################\n",
    "############ Read in data\n",
    "#########################\n",
    "\n",
    "data_train, data_test = hm.readData()\n",
    "x_train, y_train, x_test, y_test = hm.splitData(data_train, data_test)\n"
   ]
  },
  {
   "cell_type": "code",
   "execution_count": 10,
   "metadata": {
    "collapsed": false
   },
   "outputs": [],
   "source": [
    "#########################\n",
    "# Mapping of attack types\n",
    "#########################\n",
    "\n",
    "'''\n",
    "38 different attack types are mapped to their corresponding group\n",
    "-----------\n",
    "normal                      ==>   NORMAL\n",
    "back,land ..                ==>   DOS\n",
    "satan,ipsweep,nmap, ..      ==>   PROBE\n",
    "ftp_write,guess_passwd, ..  ==>   R2L\n",
    "rootkit,perl ..             ==>   U2R\n",
    "-----------\n",
    "'''\n",
    "\n",
    "y_train, y_test = hm.mapAttackTypes(y_train, y_test)\n"
   ]
  },
  {
   "cell_type": "code",
   "execution_count": 11,
   "metadata": {
    "collapsed": false
   },
   "outputs": [],
   "source": [
    "##########################\n",
    "# Feature Encoding\n",
    "##########################\n",
    "\n",
    "'''\n",
    "Categorial features (protocol_types, service, flags) are encoded into integers.\n",
    "-----------\n",
    "protocol_types:\n",
    "['tcp' 'udp' 'icmp']                          ==> [0, 1, 2]\n",
    "service:\n",
    "['ftp_data', 'telnet', ... 'rje', 'harvest']  ==> [0, 1, .... 67, 68]\n",
    "flags:\n",
    "['SF', 'S0', ...  ,'S2', 'OTH']               ==> [ 0, 1 ... , 9, 10]\n",
    "-----------\n",
    "'''\n",
    "\n",
    "x_train = hm.encodeFeatures(x_train)\n",
    "x_test = hm.encodeFeatures(x_test)\n"
   ]
  },
  {
   "cell_type": "code",
   "execution_count": 12,
   "metadata": {
    "collapsed": false
   },
   "outputs": [],
   "source": [
    "##########################\n",
    "# Label Encoding\n",
    "##########################\n",
    "\n",
    "'''\n",
    "5 different attack groups are encoded into integers\n",
    "-----------\n",
    "NORMAL         ==>   0\n",
    "DOS            ==>   1\n",
    "PROBE          ==>   2\n",
    "R2L            ==>   3\n",
    "U2R            ==>   4\n",
    "-----------\n",
    "'''\n",
    "y_train = hm.encodeLabels(y_train)\n",
    "y_test = hm.encodeLabels(y_test)"
   ]
  },
  {
   "cell_type": "code",
   "execution_count": 13,
   "metadata": {
    "collapsed": false
   },
   "outputs": [],
   "source": [
    "#########################\n",
    "####### Binarize Labels\n",
    "#########################\n",
    "\n",
    "y_train = hm.binarizeLabels(y_train)\n",
    "y_test = hm.binarizeLabels(y_test)\n"
   ]
  },
  {
   "cell_type": "code",
   "execution_count": 14,
   "metadata": {
    "collapsed": false
   },
   "outputs": [],
   "source": [
    "#########################\n",
    "######### Feature Scaling\n",
    "#########################\n",
    "\n",
    "'''\n",
    "Scale non-categorial features into to values between 0 and 1\n",
    "'''\n",
    "\n",
    "x_train, x_test = hm.scaleFeatures(x_train, x_test) \n",
    "\n",
    "\n",
    "#########################\n",
    "######### Turn data Frame into matrix / into vector\n",
    "#########################\n",
    "\n",
    "x_train = x_train.as_matrix()\n",
    "x_test = x_test.as_matrix()\n",
    "\n",
    "\n"
   ]
  },
  {
   "cell_type": "code",
   "execution_count": 18,
   "metadata": {
    "collapsed": false
   },
   "outputs": [],
   "source": [
    "data = {}\n",
    "\n",
    "data['x_train'] = x_train\n",
    "data['y_train'] = y_train\n",
    "data['x_test'] = x_test\n",
    "data['y_test'] = y_test\n",
    " \n",
    "pickle.dump( data, open( \"nsl-kdd.p\", \"wb\" ) )"
   ]
  },
  {
   "cell_type": "code",
   "execution_count": null,
   "metadata": {
    "collapsed": false
   },
   "outputs": [],
   "source": []
  },
  {
   "cell_type": "code",
   "execution_count": null,
   "metadata": {
    "collapsed": false
   },
   "outputs": [],
   "source": []
  },
  {
   "cell_type": "code",
   "execution_count": null,
   "metadata": {
    "collapsed": false
   },
   "outputs": [],
   "source": []
  },
  {
   "cell_type": "code",
   "execution_count": null,
   "metadata": {
    "collapsed": false
   },
   "outputs": [],
   "source": []
  },
  {
   "cell_type": "code",
   "execution_count": null,
   "metadata": {
    "collapsed": false
   },
   "outputs": [],
   "source": [
    " "
   ]
  },
  {
   "cell_type": "code",
   "execution_count": null,
   "metadata": {
    "collapsed": false
   },
   "outputs": [],
   "source": []
  },
  {
   "cell_type": "code",
   "execution_count": null,
   "metadata": {
    "collapsed": true
   },
   "outputs": [],
   "source": []
  },
  {
   "cell_type": "code",
   "execution_count": null,
   "metadata": {
    "collapsed": true
   },
   "outputs": [],
   "source": []
  }
 ],
 "metadata": {
  "anaconda-cloud": {},
  "kernelspec": {
   "display_name": "Python 3",
   "language": "python",
   "name": "python3"
  },
  "language_info": {
   "codemirror_mode": {
    "name": "ipython",
    "version": 3
   },
   "file_extension": ".py",
   "mimetype": "text/x-python",
   "name": "python",
   "nbconvert_exporter": "python",
   "pygments_lexer": "ipython3",
   "version": "3.6.0"
  }
 },
 "nbformat": 4,
 "nbformat_minor": 2
}
