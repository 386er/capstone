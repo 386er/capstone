{
 "cells": [
  {
   "cell_type": "code",
   "execution_count": 1,
   "metadata": {
    "collapsed": true
   },
   "outputs": [],
   "source": [
    "import pickle\n",
    "import helperModule as hm\n",
    "import warnings\n",
    "\n",
    "warnings.filterwarnings(\"ignore\")"
   ]
  },
  {
   "cell_type": "code",
   "execution_count": 2,
   "metadata": {
    "collapsed": true
   },
   "outputs": [],
   "source": [
    "#########################\n",
    "############ Read in data\n",
    "#########################\n",
    "\n",
    "data_train, data_test = hm.readDataKDD99()\n"
   ]
  },
  {
   "cell_type": "code",
   "execution_count": 3,
   "metadata": {
    "collapsed": true
   },
   "outputs": [],
   "source": [
    "#########################\n",
    "##### Replace Attack Type\n",
    "#########################\n",
    "\n",
    "'''\n",
    "Remove . at the end of attack types\n",
    "-----------\n",
    "buffer_overflow.  ==>   buffer_overflow\n",
    "ftp_write.        ==>   ftp_write\n",
    "-----------\n",
    "'''\n",
    "data_train = hm.replaceAttackTypes(data_train)\n",
    "data_test = hm.replaceAttackTypes(data_test)\n",
    "\n"
   ]
  },
  {
   "cell_type": "code",
   "execution_count": 4,
   "metadata": {
    "collapsed": true
   },
   "outputs": [],
   "source": [
    "#########################\n",
    "## Drop Attack Type Index\n",
    "#########################\n",
    "\n",
    "'''\n",
    "Remove column \"attack_type_index\"\n",
    "'''\n",
    "\n",
    "data_train = hm.dropAttackIndex(data_train)\n",
    "data_test = hm.dropAttackIndex(data_test)\n"
   ]
  },
  {
   "cell_type": "code",
   "execution_count": 5,
   "metadata": {
    "collapsed": true
   },
   "outputs": [],
   "source": [
    "#########################\n",
    "# Mapping of attack types\n",
    "#########################\n",
    "\n",
    "'''\n",
    "38 different attack types are mapped to their corresponding group\n",
    "-----------\n",
    "normal                      ==>   NORMAL\n",
    "back,land ..                ==>   DOS\n",
    "satan,ipsweep,nmap, ..      ==>   PROBE\n",
    "ftp_write,guess_passwd, ..  ==>   R2L\n",
    "rootkit,perl ..             ==>   U2R\n",
    "-----------\n",
    "'''\n",
    "\n",
    "data_train = hm.mapAttackTypes(data_train)\n",
    "data_test = hm.mapAttackTypes(data_test)"
   ]
  },
  {
   "cell_type": "code",
   "execution_count": 6,
   "metadata": {
    "collapsed": true
   },
   "outputs": [],
   "source": [
    "##########################\n",
    "# Feature Encoding\n",
    "##########################\n",
    "\n",
    "'''\n",
    "Categorial features (protocol_types, service, flags) are encoded into integers.\n",
    "-----------\n",
    "protocol_types:\n",
    "['tcp' 'udp' 'icmp']                          ==> [0, 1, 2]\n",
    "service:\n",
    "['ftp_data', 'telnet', ... 'rje', 'harvest']  ==> [0, 1, .... 67, 68]\n",
    "flags:\n",
    "['SF', 'S0', ...  ,'S2', 'OTH']               ==> [ 0, 1 ... , 9, 10]\n",
    "-----------\n",
    "'''\n",
    "\n",
    "data_train, data_test = hm.encodeFeatures(data_train, data_test)"
   ]
  },
  {
   "cell_type": "code",
   "execution_count": 7,
   "metadata": {
    "collapsed": true
   },
   "outputs": [],
   "source": [
    "##########################\n",
    "# Label Encoding\n",
    "##########################\n",
    "\n",
    "'''\n",
    "5 different attack groups are encoded into integers\n",
    "-----------\n",
    "NORMAL         ==>   0\n",
    "DOS            ==>   1\n",
    "PROBE          ==>   2\n",
    "U2R            ==>   3\n",
    "R2L            ==>   4\n",
    "-----------\n",
    "'''\n",
    "data_train, data_test = hm.encodeLabels(data_train, data_test)"
   ]
  },
  {
   "cell_type": "code",
   "execution_count": 8,
   "metadata": {
    "collapsed": true
   },
   "outputs": [],
   "source": [
    "#########################\n",
    "############## Split data\n",
    "#########################\n",
    "\n",
    "'''\n",
    "Split data into features and labels\n",
    "\n",
    "'''\n",
    "\n",
    "x_train, y_train = hm.splitData(data_train)\n",
    "x_test, y_test = hm.splitData(data_test)\n"
   ]
  },
  {
   "cell_type": "code",
   "execution_count": 9,
   "metadata": {},
   "outputs": [],
   "source": [
    "#########################\n",
    "####### Binarize Labels\n",
    "#########################\n",
    "\n",
    "'''\n",
    "5 different attack groups are binarized\n",
    "-----------\n",
    "0         ==>   [1,0,0,0,0]\n",
    "1         ==>   [0,1,0,0,0]\n",
    "2         ==>   [0,0,1,0,0]\n",
    "3         ==>   [0,0,0,1,0]\n",
    "4         ==>   [0,0,0,0,1]\n",
    "-----------\n",
    "'''\n",
    "\n",
    "y_train = hm.binarizeLabels(y_train)\n",
    "y_test = hm.binarizeLabels(y_test)"
   ]
  },
  {
   "cell_type": "code",
   "execution_count": 10,
   "metadata": {
    "collapsed": true
   },
   "outputs": [],
   "source": [
    "#########################\n",
    "######### Feature Scaling\n",
    "#########################\n",
    "\n",
    "'''\n",
    "Scale features into to values between 0 and 1\n",
    "'''\n",
    "\n",
    "x_train, x_test = hm.scaleFeatures(x_train, x_test)\n"
   ]
  },
  {
   "cell_type": "code",
   "execution_count": 11,
   "metadata": {},
   "outputs": [],
   "source": [
    "#########################\n",
    "####### Feature Selection\n",
    "#########################\n",
    "\n",
    "'''\n",
    "Scale features into to values between 0 and 1\n",
    "'''\n",
    "\n",
    "x_train = x_train.iloc[:,[0,1,2,4,5,7,24,32,34,35,39]]\n",
    "x_test = x_test.iloc[:,[0,1,2,4,5,7,24,32,34,35,39]]"
   ]
  },
  {
   "cell_type": "code",
   "execution_count": 12,
   "metadata": {
    "collapsed": true
   },
   "outputs": [],
   "source": [
    "#########################\n",
    "## Feature Transformation\n",
    "#########################\n",
    "\n",
    "'''\n",
    "Turn features into numpy arrays\n",
    "'''\n",
    "\n",
    "x_train = x_train.ix[:,:].values\n",
    "x_test = x_test.ix[:,:].values\n"
   ]
  },
  {
   "cell_type": "code",
   "execution_count": 13,
   "metadata": {
    "collapsed": true
   },
   "outputs": [],
   "source": [
    "data = {}\n",
    "\n",
    "data['x_train'] = x_train\n",
    "data['x_test'] = x_test\n",
    "data['y_train'] = y_train\n",
    "data['y_test'] = y_test\n",
    " \n",
    "dump = pickle.dump( data, open( \"kdd99reduced.p\", \"wb\" ) )"
   ]
  },
  {
   "cell_type": "code",
   "execution_count": null,
   "metadata": {
    "collapsed": true
   },
   "outputs": [],
   "source": []
  }
 ],
 "metadata": {
  "kernelspec": {
   "display_name": "Python 2",
   "language": "python",
   "name": "python2"
  },
  "language_info": {
   "codemirror_mode": {
    "name": "ipython",
    "version": 2
   },
   "file_extension": ".py",
   "mimetype": "text/x-python",
   "name": "python",
   "nbconvert_exporter": "python",
   "pygments_lexer": "ipython2",
   "version": "2.7.13"
  }
 },
 "nbformat": 4,
 "nbformat_minor": 2
}
