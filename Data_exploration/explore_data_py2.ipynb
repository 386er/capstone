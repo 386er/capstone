{
 "cells": [
  {
   "cell_type": "code",
   "execution_count": 3,
   "metadata": {
    "collapsed": true
   },
   "outputs": [],
   "source": [
    "import pandas as pd\n",
    "import numpy as np\n",
    "import math\n",
    "import helperModule as hm\n",
    "\n",
    "%config InlineBackend.figure_format = 'retina'\n",
    "import matplotlib.pyplot as plt\n",
    "\n"
   ]
  },
  {
   "cell_type": "code",
   "execution_count": 2,
   "metadata": {
    "collapsed": true
   },
   "outputs": [],
   "source": [
    "fields = pd.read_csv('Field Names.csv', header=None)\n",
    "field_names = list(fields[0])\n",
    "field_types = fields[1]\n",
    "data_train = pd.read_csv('KDD99Train.csv', names=field_names)\n",
    "data_test = pd.read_csv('KDD99Test.csv', names=field_names)"
   ]
  },
  {
   "cell_type": "code",
   "execution_count": 4,
   "metadata": {},
   "outputs": [
    {
     "name": "stdout",
     "output_type": "stream",
     "text": [
      "Index([u'duration', u'protocol_type', u'service', u'flag', u'src_bytes',\n",
      "       u'dst_bytes', u'land', u'wrong_fragment', u'urgent', u'hot',\n",
      "       u'num_failed_logins', u'logged_in', u'num_compromised', u'root_shell',\n",
      "       u'su_attempted', u'num_root', u'num_file_creations', u'num_shells',\n",
      "       u'num_access_files', u'num_outbound_cmds', u'is_host_login',\n",
      "       u'is_guest_login', u'count', u'srv_count', u'serror_rate',\n",
      "       u'srv_serror_rate', u'rerror_rate', u'srv_rerror_rate',\n",
      "       u'same_srv_rate', u'diff_srv_rate', u'srv_diff_host_rate',\n",
      "       u'dst_host_count', u'dst_host_srv_count', u'dst_host_same_srv_rate',\n",
      "       u'dst_host_diff_srv_rate', u'dst_host_same_src_port_rate',\n",
      "       u'dst_host_srv_diff_host_rate', u'dst_host_serror_rate',\n",
      "       u'dst_host_srv_serror_rate', u'dst_host_rerror_rate',\n",
      "       u'dst_host_srv_rerror_rate', u'attack_type', u'attack_type_index'],\n",
      "      dtype='object')\n"
     ]
    }
   ],
   "source": [
    "print data_train.columns"
   ]
  },
  {
   "cell_type": "code",
   "execution_count": 5,
   "metadata": {},
   "outputs": [
    {
     "name": "stdout",
     "output_type": "stream",
     "text": [
      "['__doc__', '__file__', '__name__', '__package__', 'acos', 'acosh', 'asin', 'asinh', 'atan', 'atan2', 'atanh', 'ceil', 'copysign', 'cos', 'cosh', 'degrees', 'e', 'erf', 'erfc', 'exp', 'expm1', 'fabs', 'factorial', 'floor', 'fmod', 'frexp', 'fsum', 'gamma', 'hypot', 'isinf', 'isnan', 'ldexp', 'lgamma', 'log', 'log10', 'log1p', 'modf', 'pi', 'pow', 'radians', 'sin', 'sinh', 'sqrt', 'tan', 'tanh', 'trunc']\n"
     ]
    }
   ],
   "source": [
    "print dir(math)"
   ]
  },
  {
   "cell_type": "code",
   "execution_count": null,
   "metadata": {
    "collapsed": true
   },
   "outputs": [],
   "source": []
  },
  {
   "cell_type": "code",
   "execution_count": 7,
   "metadata": {},
   "outputs": [
    {
     "data": {
      "image/png": "[encoded data removed]",
      "text/plain": [
       "<matplotlib.figure.Figure at 0x11319bd10>"
      ]
     },
     "metadata": {
      "image/png": {
       "height": 277,
       "width": 384
      }
     },
     "output_type": "display_data"
    }
   ],
   "source": [
    "#duration = data_train['hot'].apply(np.log)\n",
    "#duration = [value if not math.isinf(value) else 0 for value in duration]\n",
    "\n",
    "\n",
    "x = [2,3,4,6,7]\n",
    "y = [3,5,7,8,12]\n",
    "\n",
    "plt.plot(x,y)\n",
    "plt.xlabel('x-Axis')\n",
    "plt.ylabel('y-Axis')\n",
    "plt.title('Title')\n",
    "plt.show()\n"
   ]
  },
  {
   "cell_type": "code",
   "execution_count": null,
   "metadata": {
    "collapsed": true
   },
   "outputs": [],
   "source": []
  },
  {
   "cell_type": "code",
   "execution_count": null,
   "metadata": {
    "collapsed": true
   },
   "outputs": [],
   "source": []
  }
 ],
 "metadata": {
  "kernelspec": {
   "display_name": "Python 2",
   "language": "python",
   "name": "python2"
  },
  "language_info": {
   "codemirror_mode": {
    "name": "ipython",
    "version": 2
   },
   "file_extension": ".py",
   "mimetype": "text/x-python",
   "name": "python",
   "nbconvert_exporter": "python",
   "pygments_lexer": "ipython2",
   "version": "2.7.13"
  }
 },
 "nbformat": 4,
 "nbformat_minor": 2
}
