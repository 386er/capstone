{
 "cells": [
  {
   "cell_type": "code",
   "execution_count": null,
   "metadata": {
    "collapsed": false
   },
   "outputs": [],
   "source": [
    "\n",
    "\n"
   ]
  },
  {
   "cell_type": "code",
   "execution_count": null,
   "metadata": {
    "collapsed": false
   },
   "outputs": [],
   "source": []
  },
  {
   "cell_type": "markdown",
   "metadata": {},
   "source": [
    "\n",
    "\n",
    "The benchmark model for this capstone project will be the winning model used in the 1999 Data Mining and Knowledge Discovery competition (KDD Cup). The model applied was an ensemble of C5 decision trees. See (Pfahringer, 2000) for a more detailed overview of how this model was implemented.\n",
    "\n",
    "The following confusion matrix \n",
    "\n",
    "\n",
    "<table style=\"width:50%\">\n",
    "  <tr>\n",
    "    <th>Actual → </th>\n",
    "    <th>0</th>\n",
    "    <th>1</th> \n",
    "    <th>2</th>\n",
    "    <th>3</th>\n",
    "    <th>4</th>\n",
    "    <th>%Correct</th>\n",
    "  </tr>\n",
    "  <tr>\n",
    "    <th>Predicted ↓</th>\n",
    "    <th></th>\n",
    "    <th></th> \n",
    "    <th></th>\n",
    "    <th></th>\n",
    "    <th></th>\n",
    "    <th></th>\n",
    "  </tr>\n",
    "  <tr>\n",
    "    <th>0</th>\n",
    "    <td style='background-color:#E6E6E6'>60262</td> \n",
    "    <td style='background-color:#E6E6E6'>243</td>\n",
    "    <td style='background-color:#E6E6E6'>78</td>\n",
    "    <td style='background-color:#E6E6E6'>4</td>\n",
    "    <td style='background-color:#E6E6E6'>6</td>\n",
    "    <td>99.5%</td>\n",
    "  </tr>\n",
    "  <tr>\n",
    "    <th>1</th>\n",
    "    <td style='background-color:#E6E6E6'>511</td> \n",
    "    <td style='background-color:#E6E6E6'>3471</td>\n",
    "    <td style='background-color:#E6E6E6'>184</td>\n",
    "    <td style='background-color:#E6E6E6'>0</td>\n",
    "    <td style='background-color:#E6E6E6'>0</td>\n",
    "    <td>83.3%</td>\n",
    "  </tr>\n",
    "    <tr>\n",
    "    <th>2</th>\n",
    "    <td style='background-color:#E6E6E6'>5299</td> \n",
    "    <td style='background-color:#E6E6E6'>1328</td>\n",
    "    <td style='background-color:#E6E6E6'>223226</td>\n",
    "    <td style='background-color:#E6E6E6'>0</td>\n",
    "    <td style='background-color:#E6E6E6'>0</td>\n",
    "    <td>97.1%</td>\n",
    "  </tr>\n",
    "    <tr>\n",
    "    <th>3</th>   \n",
    "    <td style='background-color:#E6E6E6'>68</td> \n",
    "    <td style='background-color:#E6E6E6'>20</td>\n",
    "    <td style='background-color:#E6E6E6'>0</td>\n",
    "    <td style='background-color:#E6E6E6'>30</td>\n",
    "    <td style='background-color:#E6E6E6'>10</td>\n",
    "    <td>13.2%</td>\n",
    "  </tr>\n",
    "    <tr>\n",
    "    <th>4</th>\n",
    "    <td style='background-color:#E6E6E6'>14527</td> \n",
    "    <td style='background-color:#E6E6E6'>294</td>\n",
    "    <td style='background-color:#E6E6E6'>0</td>\n",
    "    <td style='background-color:#E6E6E6'>8</td>\n",
    "    <td style='background-color:#E6E6E6'>1360</td>\n",
    "    <td>8.4%</td>\n",
    "  </tr>\n",
    "      <tr>\n",
    "    <th>%correct</th>\n",
    "    <td>74.6%</td> \n",
    "    <td>64.8%</td>\n",
    "    <td>99.9%</td>\n",
    "    <td>71.4%</td>\n",
    "    <td>98.8%</td>\n",
    "    <td></td>\n",
    "  </tr>\n",
    "</table>\n",
    "\n"
   ]
  },
  {
   "cell_type": "code",
   "execution_count": null,
   "metadata": {
    "collapsed": true
   },
   "outputs": [],
   "source": []
  }
 ],
 "metadata": {
  "kernelspec": {
   "display_name": "Python 3",
   "language": "python",
   "name": "python3"
  },
  "language_info": {
   "codemirror_mode": {
    "name": "ipython",
    "version": 3
   },
   "file_extension": ".py",
   "mimetype": "text/x-python",
   "name": "python",
   "nbconvert_exporter": "python",
   "pygments_lexer": "ipython3",
   "version": "3.6.0"
  }
 },
 "nbformat": 4,
 "nbformat_minor": 2
}
